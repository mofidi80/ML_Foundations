{
 "cells": [
  {
   "cell_type": "code",
   "execution_count": 65,
   "id": "aa58ef44-4e24-447d-972d-fb8d2d193be6",
   "metadata": {},
   "outputs": [],
   "source": [
    "#import libraries\n",
    "import numpy as np\n",
    "import pandas as pd\n",
    "from sklearn.model_selection import train_test_split\n",
    "from sklearn.linear_model import LinearRegression, Ridge, Lasso\n",
    "from sklearn.metrics import mean_squared_error, mean_absolute_error\n",
    "from sklearn.model_selection import KFold"
   ]
  },
  {
   "cell_type": "markdown",
   "id": "0dd85669-d601-4266-9939-0144e517326f",
   "metadata": {},
   "source": [
    "### Dataset info\n",
    "1. ZN: proportion of residential land zoned for lots over 25,000 sq.ft.\n",
    "2. INDUS: proportion of non-retail business acres per town3. \n",
    "3. CHAS: Charles River dummy variable (= 1 if tract bounds river; 0 otherwise4. )\n",
    "4. NOX: nitric oxides concentration (parts s per 10 million)\n",
    "5. RM: average number of rooms per dwelling\n",
    "6. AGE: proportion of owner-occupied units built prior 7. to 1940\n",
    "7. DIS: weighted distances to ﬁve Boston employment  centers\n",
    "8. RAD: index of accessibility to radial9.  highways\n",
    "9. TAX: full-value property-tax rate p10. er $10,000\n",
    "10. PTRATIO: pupil-teacher ratio by town\n",
    "11. B: 1000(Bk−0.63)2 where Bk is the proportion of blacks by town\n",
    "12. LSTAT: % lower status of the14.  population\n",
    "13. MEDV: Median value of owner-occupied homes in $1000s\n",
    "We can see that the input attributes have a mixture of units."
   ]
  },
  {
   "cell_type": "code",
   "execution_count": 48,
   "id": "fd53d317-5096-40f6-a0d9-a6fb8e5025eb",
   "metadata": {},
   "outputs": [
    {
     "data": {
      "text/html": [
       "<div>\n",
       "<style scoped>\n",
       "    .dataframe tbody tr th:only-of-type {\n",
       "        vertical-align: middle;\n",
       "    }\n",
       "\n",
       "    .dataframe tbody tr th {\n",
       "        vertical-align: top;\n",
       "    }\n",
       "\n",
       "    .dataframe thead th {\n",
       "        text-align: right;\n",
       "    }\n",
       "</style>\n",
       "<table border=\"1\" class=\"dataframe\">\n",
       "  <thead>\n",
       "    <tr style=\"text-align: right;\">\n",
       "      <th></th>\n",
       "      <th>CRIM</th>\n",
       "      <th>ZN</th>\n",
       "      <th>INDUS</th>\n",
       "      <th>CHAS</th>\n",
       "      <th>NOX</th>\n",
       "      <th>RM</th>\n",
       "      <th>AGE</th>\n",
       "      <th>DIS</th>\n",
       "      <th>RAD</th>\n",
       "      <th>TAX</th>\n",
       "      <th>PTRATIO</th>\n",
       "      <th>B</th>\n",
       "      <th>LSTAT</th>\n",
       "      <th>MEDV</th>\n",
       "    </tr>\n",
       "  </thead>\n",
       "  <tbody>\n",
       "    <tr>\n",
       "      <th>0</th>\n",
       "      <td>0.00632</td>\n",
       "      <td>18.0</td>\n",
       "      <td>2.31</td>\n",
       "      <td>0</td>\n",
       "      <td>0.538</td>\n",
       "      <td>6.575</td>\n",
       "      <td>65.2</td>\n",
       "      <td>4.0900</td>\n",
       "      <td>1</td>\n",
       "      <td>296.0</td>\n",
       "      <td>15.3</td>\n",
       "      <td>396.90</td>\n",
       "      <td>4.98</td>\n",
       "      <td>24.0</td>\n",
       "    </tr>\n",
       "    <tr>\n",
       "      <th>1</th>\n",
       "      <td>0.02731</td>\n",
       "      <td>0.0</td>\n",
       "      <td>7.07</td>\n",
       "      <td>0</td>\n",
       "      <td>0.469</td>\n",
       "      <td>6.421</td>\n",
       "      <td>78.9</td>\n",
       "      <td>4.9671</td>\n",
       "      <td>2</td>\n",
       "      <td>242.0</td>\n",
       "      <td>17.8</td>\n",
       "      <td>396.90</td>\n",
       "      <td>9.14</td>\n",
       "      <td>21.6</td>\n",
       "    </tr>\n",
       "    <tr>\n",
       "      <th>2</th>\n",
       "      <td>0.02729</td>\n",
       "      <td>0.0</td>\n",
       "      <td>7.07</td>\n",
       "      <td>0</td>\n",
       "      <td>0.469</td>\n",
       "      <td>7.185</td>\n",
       "      <td>61.1</td>\n",
       "      <td>4.9671</td>\n",
       "      <td>2</td>\n",
       "      <td>242.0</td>\n",
       "      <td>17.8</td>\n",
       "      <td>392.83</td>\n",
       "      <td>4.03</td>\n",
       "      <td>34.7</td>\n",
       "    </tr>\n",
       "    <tr>\n",
       "      <th>3</th>\n",
       "      <td>0.03237</td>\n",
       "      <td>0.0</td>\n",
       "      <td>2.18</td>\n",
       "      <td>0</td>\n",
       "      <td>0.458</td>\n",
       "      <td>6.998</td>\n",
       "      <td>45.8</td>\n",
       "      <td>6.0622</td>\n",
       "      <td>3</td>\n",
       "      <td>222.0</td>\n",
       "      <td>18.7</td>\n",
       "      <td>394.63</td>\n",
       "      <td>2.94</td>\n",
       "      <td>33.4</td>\n",
       "    </tr>\n",
       "    <tr>\n",
       "      <th>4</th>\n",
       "      <td>0.06905</td>\n",
       "      <td>0.0</td>\n",
       "      <td>2.18</td>\n",
       "      <td>0</td>\n",
       "      <td>0.458</td>\n",
       "      <td>7.147</td>\n",
       "      <td>54.2</td>\n",
       "      <td>6.0622</td>\n",
       "      <td>3</td>\n",
       "      <td>222.0</td>\n",
       "      <td>18.7</td>\n",
       "      <td>396.90</td>\n",
       "      <td>5.33</td>\n",
       "      <td>36.2</td>\n",
       "    </tr>\n",
       "  </tbody>\n",
       "</table>\n",
       "</div>"
      ],
      "text/plain": [
       "      CRIM    ZN  INDUS  CHAS    NOX     RM   AGE     DIS  RAD    TAX  \\\n",
       "0  0.00632  18.0   2.31     0  0.538  6.575  65.2  4.0900    1  296.0   \n",
       "1  0.02731   0.0   7.07     0  0.469  6.421  78.9  4.9671    2  242.0   \n",
       "2  0.02729   0.0   7.07     0  0.469  7.185  61.1  4.9671    2  242.0   \n",
       "3  0.03237   0.0   2.18     0  0.458  6.998  45.8  6.0622    3  222.0   \n",
       "4  0.06905   0.0   2.18     0  0.458  7.147  54.2  6.0622    3  222.0   \n",
       "\n",
       "   PTRATIO       B  LSTAT  MEDV  \n",
       "0     15.3  396.90   4.98  24.0  \n",
       "1     17.8  396.90   9.14  21.6  \n",
       "2     17.8  392.83   4.03  34.7  \n",
       "3     18.7  394.63   2.94  33.4  \n",
       "4     18.7  396.90   5.33  36.2  "
      ]
     },
     "execution_count": 48,
     "metadata": {},
     "output_type": "execute_result"
    }
   ],
   "source": [
    "#read dataset and name the columns\n",
    "column_names = ['CRIM', 'ZN', 'INDUS', 'CHAS', 'NOX', 'RM', 'AGE', 'DIS', 'RAD', 'TAX', 'PTRATIO', 'B', 'LSTAT', 'MEDV']\n",
    "df = pd.read_csv(\"C:\\housing.csv\", header=None, sep=r\"\\s+\", names=column_names)\n",
    "df.head()"
   ]
  },
  {
   "cell_type": "code",
   "execution_count": 49,
   "id": "12ec4027-c4a9-4080-bade-32e901531339",
   "metadata": {},
   "outputs": [
    {
     "name": "stdout",
     "output_type": "stream",
     "text": [
      "<class 'pandas.core.frame.DataFrame'>\n",
      "RangeIndex: 506 entries, 0 to 505\n",
      "Data columns (total 14 columns):\n",
      " #   Column   Non-Null Count  Dtype  \n",
      "---  ------   --------------  -----  \n",
      " 0   CRIM     506 non-null    float64\n",
      " 1   ZN       506 non-null    float64\n",
      " 2   INDUS    506 non-null    float64\n",
      " 3   CHAS     506 non-null    int64  \n",
      " 4   NOX      506 non-null    float64\n",
      " 5   RM       506 non-null    float64\n",
      " 6   AGE      506 non-null    float64\n",
      " 7   DIS      506 non-null    float64\n",
      " 8   RAD      506 non-null    int64  \n",
      " 9   TAX      506 non-null    float64\n",
      " 10  PTRATIO  506 non-null    float64\n",
      " 11  B        506 non-null    float64\n",
      " 12  LSTAT    506 non-null    float64\n",
      " 13  MEDV     506 non-null    float64\n",
      "dtypes: float64(12), int64(2)\n",
      "memory usage: 55.5 KB\n"
     ]
    }
   ],
   "source": [
    "df.info()"
   ]
  },
  {
   "cell_type": "code",
   "execution_count": 53,
   "id": "f7c348ee-4103-4ab4-b3db-badbc8a5e6ae",
   "metadata": {},
   "outputs": [],
   "source": [
    "#choose feature cols and target col(y) for ml models\n",
    "feature_cols = [\"RM\", \"DIS\", \"RAD\", \"TAX\", \"B\", \"LSTAT\"]\n",
    "y = [\"MEDV\"]"
   ]
  },
  {
   "cell_type": "code",
   "execution_count": 54,
   "id": "8f5dbd92-3611-4c0f-9dbc-4942ec7d38ae",
   "metadata": {},
   "outputs": [],
   "source": [
    "#do train test split\n",
    "X_train, X_test, y_train, y_test = train_test_split(\n",
    "    df[feature_cols], df[y], test_size=0.20, random_state=41)"
   ]
  },
  {
   "cell_type": "code",
   "execution_count": 59,
   "id": "8c6e35f9-4fae-41cc-a96b-bee0c513dc56",
   "metadata": {},
   "outputs": [
    {
     "name": "stdout",
     "output_type": "stream",
     "text": [
      "Lasso model with alpha=1e-05 has mae=3.4952714496801605 and mse=27.38046878970587\n",
      "Lasso model with alpha=0.0001 has mae=3.495263958150359 and mse=27.37998911150273\n",
      "Lasso model with alpha=0.001 has mae=3.495189164254598 and mse=27.37519581360647\n",
      "Lasso model with alpha=0.01 has mae=3.4944408478006626 and mse=27.327490154574573\n",
      "Lasso model with alpha=0.1 has mae=3.4870086746646667 and mse=26.8739885763198\n",
      "Lasso model with alpha=1 has mae=3.6003297150898357 and mse=24.64581298163085\n"
     ]
    }
   ],
   "source": [
    "#define lasso models for different regularization rates(alpha)\n",
    "#then test them to see which regularization rate is best for this dataset and this model\n",
    "alpha_rates = [0.00001, 0.0001, 0.001, 0.01, 0.1, 1]\n",
    "lasso_mse = []\n",
    "lasso_mae = []\n",
    "for a in alpha_rates:\n",
    "    model_lasso = Lasso(alpha=a)\n",
    "    model_lasso.fit(X_train, y_train)\n",
    "    y_pred_lasso = model_lasso.predict(X_test)\n",
    "    cur_mse = mean_squared_error(y_test, y_pred_lasso)\n",
    "    cur_mae = mean_absolute_error(y_test, y_pred_lasso)\n",
    "    lasso_mse.append(cur_mse)\n",
    "    lasso_mae.append(cur_mae)\n",
    "    print(f\"Lasso model with alpha={a} has mae={cur_mae} and mse={cur_mse}\")"
   ]
  },
  {
   "cell_type": "markdown",
   "id": "a01cc5dc-14f9-4f65-a6d4-c9441f8375f4",
   "metadata": {},
   "source": [
    "### Best Lasso model has alpha=0.1(based mostly on mae)"
   ]
  },
  {
   "cell_type": "code",
   "execution_count": 64,
   "id": "04e6cd98-c0ca-4d8c-b0d1-704747bec379",
   "metadata": {},
   "outputs": [
    {
     "name": "stdout",
     "output_type": "stream",
     "text": [
      "Ridge model with alpha=1e-05 has mae=3.495272282032989 and mse=27.38052155213164\n",
      "Ridge model with alpha=0.0001 has mae=3.4952722852045532 and mse=27.38051674654868\n",
      "Ridge model with alpha=0.001 has mae=3.4952723169188333 and mse=27.380468691493697\n",
      "Ridge model with alpha=0.01 has mae=3.4952726339264215 and mse=27.379988218393645\n",
      "Ridge model with alpha=0.1 has mae=3.4952757904936838 and mse=27.375191222667564\n",
      "Ridge model with alpha=1 has mae=3.495306016866989 and mse=27.327985177460764\n"
     ]
    }
   ],
   "source": [
    "#define lasso models for different regularization rates(alpha)\n",
    "#then test them to see which regularization rate is best for this dataset and this model\n",
    "ridge_mse = []\n",
    "ridge_mae = []\n",
    "for a in alpha_rates:\n",
    "    model_ridge = Ridge(alpha=a)\n",
    "    model_ridge.fit(X_train, y_train)\n",
    "    y_pred_ridge = model_ridge.predict(X_test)\n",
    "    cur_mse = mean_squared_error(y_test, y_pred_ridge)\n",
    "    cur_mae = mean_absolute_error(y_test, y_pred_ridge)\n",
    "    ridge_mse.append(cur_mse)\n",
    "    ridge_mae.append(cur_mae)\n",
    "    print(f\"Ridge model with alpha={a} has mae={cur_mae} and mse={cur_mse}\")"
   ]
  },
  {
   "cell_type": "markdown",
   "id": "aff5d22b-1a27-4c5c-bf02-25c2720faf1e",
   "metadata": {},
   "source": [
    "### Best Ridge model has alpha=1(based mostly on mse)"
   ]
  },
  {
   "cell_type": "code",
   "execution_count": 79,
   "id": "efb13979-0d88-4cec-b55e-a61610f62819",
   "metadata": {},
   "outputs": [
    {
     "name": "stdout",
     "output_type": "stream",
     "text": [
      "Ridge mean mse=40.41563673537587, Lasso mean mse=40.41220856590756\n"
     ]
    }
   ],
   "source": [
    "#use kfolds to cross validate and analyze the accuracy of our dataset to make sure the models aren't overfitted\n",
    "model_lasso=Lasso(alpha=0.1)\n",
    "model_ridge = Ridge(alpha=1)\n",
    "kf = KFold(n_splits=5)\n",
    "mse_lasso_lst = []\n",
    "mse_ridge_lst = []\n",
    "for train_index, test_index in kf.split(df[feature_cols]):\n",
    "    X_train , X_test = df.loc[train_index,feature_cols],df.loc[test_index,feature_cols]\n",
    "    y_train , y_test = df.loc[train_index,y] , df.loc[test_index,y] \n",
    "    model_lasso.fit(X_train,y_train)\n",
    "    model_ridge.fit(X_train,y_train)\n",
    "    \n",
    "    pred_values_lasso = model_lasso.predict(X_test)\n",
    "    pred_values_ridge = model_ridge.predict(X_test)\n",
    "\n",
    "    mse_lasso = mean_squared_error(pred_values_lasso , y_test)\n",
    "    mse_ridge = mean_squared_error(pred_values_ridge , y_test)\n",
    "    mse_lasso_lst.append(mse_lasso)\n",
    "    mse_ridge_lst.append(mse_ridge)\n",
    "\n",
    "def mean_l(x):\n",
    "    return sum(x)/len(x)\n",
    "print(f\"Ridge mean mse={mean_l(mse_ridge_lst)}, Lasso mean mse={mean_l(mse_lasso_lst)}\")"
   ]
  },
  {
   "cell_type": "markdown",
   "id": "117504f8-cbb0-4f22-ac6c-f04232ed6401",
   "metadata": {},
   "source": [
    "### Lasso is slightly better for this dataset"
   ]
  }
 ],
 "metadata": {
  "kernelspec": {
   "display_name": "Python 3 (ipykernel)",
   "language": "python",
   "name": "python3"
  },
  "language_info": {
   "codemirror_mode": {
    "name": "ipython",
    "version": 3
   },
   "file_extension": ".py",
   "mimetype": "text/x-python",
   "name": "python",
   "nbconvert_exporter": "python",
   "pygments_lexer": "ipython3",
   "version": "3.11.5"
  }
 },
 "nbformat": 4,
 "nbformat_minor": 5
}
